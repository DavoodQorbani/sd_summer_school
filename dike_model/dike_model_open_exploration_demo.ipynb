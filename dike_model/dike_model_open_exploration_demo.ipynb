{
 "cells": [
  {
   "cell_type": "markdown",
   "metadata": {},
   "source": [
    "### I. Open exploration"
   ]
  },
  {
   "cell_type": "markdown",
   "metadata": {
    "heading_collapsed": true
   },
   "source": [
    "#### Importing packages"
   ]
  },
  {
   "cell_type": "code",
   "execution_count": 3,
   "metadata": {
    "code_folding": [],
    "hidden": true,
    "scrolled": true
   },
   "outputs": [
    {
     "name": "stderr",
     "output_type": "stream",
     "text": [
      "C:\\Users\\Mikhail\\Anaconda3\\lib\\site-packages\\ema_workbench\\em_framework\\optimization.py:29: ImportWarning: platypus based optimization not available\n",
      "  warnings.warn(\"platypus based optimization not available\", ImportWarning)\n"
     ]
    },
    {
     "data": {
      "text/plain": [
       "<Logger EMA (DEBUG)>"
      ]
     },
     "execution_count": 3,
     "metadata": {},
     "output_type": "execute_result"
    }
   ],
   "source": [
    "# Plotting tools\n",
    "import seaborn as sns\n",
    "import matplotlib.pyplot as plt\n",
    "from matplotlib.pyplot import cm\n",
    "\n",
    "# Working with the data\n",
    "import pandas as pd\n",
    "import numpy as np\n",
    "\n",
    "# Specific packages used in the code \n",
    "import time\n",
    "import copy\n",
    "import pprint\n",
    "from __future__ import (unicode_literals, print_function, absolute_import, division)\n",
    "\n",
    "# EMA packages\n",
    "from ema_workbench import (Model, MultiprocessingEvaluator, Policy, Scenario)\n",
    "from ema_workbench.em_framework.evaluators import perform_experiments\n",
    "from ema_workbench.em_framework.samplers import sample_uncertainties\n",
    "from ema_workbench.util import ema_logging\n",
    "from ema_workbench import save_results\n",
    "from ema_workbench import load_results\n",
    "ema_logging.log_to_stderr(ema_logging.INFO)"
   ]
  },
  {
   "cell_type": "markdown",
   "metadata": {
    "heading_collapsed": true
   },
   "source": [
    "### 1. Specify the model: levers and outcomes"
   ]
  },
  {
   "cell_type": "markdown",
   "metadata": {
    "hidden": true
   },
   "source": [
    "<b>Inputs</b> (levers, policies)"
   ]
  },
  {
   "cell_type": "markdown",
   "metadata": {
    "hidden": true
   },
   "source": [
    "The model has 11 levers of 3 types. Let's discuss types first. You can do following:\n",
    "\n",
    "1. __rise the dike__. \n",
    "2. implement the __room for the river project__. \n",
    "3. spend money on __evacuation__. \n",
    "\n",
    "The first two types of levers can be done on each 5 locations from A1 to A5, therefore you have 5 of them. The same applies for the room for the river project. The final lever is for all locations. So, overall you need to specify 11 outcomes."
   ]
  },
  {
   "cell_type": "markdown",
   "metadata": {
    "hidden": true
   },
   "source": [
    "<b>Outputs</b> (outcomes, objectives)"
   ]
  },
  {
   "cell_type": "markdown",
   "metadata": {
    "hidden": true
   },
   "source": [
    "The model has 5 possible combinations of the outcomes. A combination of the outcomes called __\"problem formulation\"__. For example, you can look on the problem formulation number 0. It has only 2 outcomes of interest: expected number of deaths and total costs. Problem formulation number 1 has 3 outcomes of interest: expected number of deaths, expected annual damage and total investments costs. Please, check \"problem_formulation.py\" for more information. For the sake of demonstration, we will explore only problem formulation number 1 with 3 outcomes:\n",
    "* expected number of deaths;\n",
    "* expected annual damage;\n",
    "* total investments costs."
   ]
  },
  {
   "cell_type": "markdown",
   "metadata": {
    "hidden": true
   },
   "source": [
    "__Uncertainties__"
   ]
  },
  {
   "cell_type": "markdown",
   "metadata": {
    "hidden": true
   },
   "source": [
    "The model has __17 uncertainties__ of __5 types__. Let's discuss types first. There is uncertainty about:\n",
    "\n",
    "1. Bmax \n",
    "2. pfail\n",
    "3. Brate\n",
    "4. discount rate\n",
    "5. flood wave shape\n",
    "\n",
    "The first 3 types of uncertainties can be found on each of 5 locations from A1 to A5, therefore in total you have 15 of them. The final two uncertainties are kind of \"global\" and correspond to the whole model."
   ]
  },
  {
   "cell_type": "markdown",
   "metadata": {
    "hidden": true
   },
   "source": [
    "- First that you need to do is to select the problem formulation (set of outcomes) that you want to explore by specifying the model. As was stated earlier you will study 3 objectives problem formulation (PF). To specify the model we created a function called \"get_model_for_problem_formulation\". You can find it in \"problem_formulation.py\". By writing dike_model = get_model_for_problem_formulation(1) with number 1 inside of the brackets you specified the model;\n",
    "\n",
    "- Further, you need to specify levers. What do you want to do to tackle the problem of flooding? We created 4 policies (combination of levers) and name them."
   ]
  },
  {
   "cell_type": "code",
   "execution_count": 4,
   "metadata": {
    "hidden": true,
    "scrolled": true
   },
   "outputs": [
    {
     "name": "stderr",
     "output_type": "stream",
     "text": [
      "C:\\Users\\Mikhail\\Anaconda3\\lib\\importlib\\_bootstrap.py:219: ImportWarning: can't resolve package from __spec__ or __package__, falling back on __name__ and __path__\n",
      "  return f(*args, **kwds)\n",
      "[MainProcess/INFO] model initialized\n"
     ]
    }
   ],
   "source": [
    "# Specify the model (outcomes)\n",
    "from problem_formulation import get_model_for_problem_formulation\n",
    "dike_model = get_model_for_problem_formulation(1) # specify the model\n",
    "n_objectives = 3 # number of objectives in chosen PF\n",
    "n_uncertainties = 17\n",
    "\n",
    "# Specify the policies (levers)\n",
    "from specify import specify_levers\n",
    "policy0 = Policy('policy_0', **specify_levers(0,0,0,0,0,0,0,0,0,0,0)) # DO NOTHING\n",
    "policy1 = Policy('policy_1', **specify_levers(10,0,10,0,0,0,0,0,0,0,0)) # DO DIKES at A1, A3\n",
    "policy2 = Policy('policy_2', **specify_levers(10,10,10,0,10,0,0,0,0,0,0)) # DO DIKES at A1, A2, A3, A5\n",
    "policy3 = Policy('policy_3', **specify_levers(10,10,10,10,10,1,1,1,1,1,4)) # DO EVERYTHING\n",
    "n_levers = 11 # number of levers available\n",
    "n_policies = 4 # number of policies under investigation"
   ]
  },
  {
   "cell_type": "code",
   "execution_count": 5,
   "metadata": {
    "hidden": true
   },
   "outputs": [],
   "source": [
    "# # Print inputs\n",
    "# for i in range(n_levers) : \n",
    "#     print(dike_model.levers[i])\n",
    "\n",
    "# # Print outputs\n",
    "# for i in range(n_objectives) : \n",
    "#     print(dike_model.outcomes[i])\n",
    "\n",
    "# # Print uncertainties\n",
    "# for i in range(n_uncertainties) : \n",
    "#     print(dike_model.uncertainties[i])"
   ]
  },
  {
   "cell_type": "markdown",
   "metadata": {
    "heading_collapsed": true
   },
   "source": [
    "### 2. Run experiments"
   ]
  },
  {
   "cell_type": "markdown",
   "metadata": {
    "hidden": true
   },
   "source": [
    "Second step is to run experiments. This process is about sampling over uncertainties or levers. Let's study the effects of uncertainties on the outcomes on interest first."
   ]
  },
  {
   "cell_type": "code",
   "execution_count": 53,
   "metadata": {
    "hidden": true,
    "scrolled": false
   },
   "outputs": [
    {
     "name": "stderr",
     "output_type": "stream",
     "text": [
      "[MainProcess/INFO] pool started\n",
      "[MainProcess/INFO] performing 100 scenarios * 4 policies * 1 model(s) = 400 experiments\n",
      "[MainProcess/INFO] 40 cases completed\n",
      "[MainProcess/INFO] 80 cases completed\n",
      "[MainProcess/INFO] 120 cases completed\n",
      "[MainProcess/INFO] 160 cases completed\n",
      "[MainProcess/INFO] 200 cases completed\n",
      "[MainProcess/INFO] 240 cases completed\n",
      "[MainProcess/INFO] 280 cases completed\n",
      "[MainProcess/INFO] 320 cases completed\n",
      "[MainProcess/INFO] 360 cases completed\n",
      "[MainProcess/INFO] 400 cases completed\n",
      "[MainProcess/INFO] experiments finished\n",
      "[MainProcess/INFO] terminating pool\n"
     ]
    },
    {
     "name": "stdout",
     "output_type": "stream",
     "text": [
      "Simulation time is 2 mintues\n"
     ]
    }
   ],
   "source": [
    "n_scenarios = 100 # select a number of scenarios (runs) that you want study, the more the better\n",
    "start = time.time()\n",
    "with MultiprocessingEvaluator(dike_model) as evaluator: # run experiments with all cores available on your machine\n",
    "    results = evaluator.perform_experiments(n_scenarios, [policy0, policy1, policy2, policy3]) # get results of applying 4 policies\n",
    "end = time.time() \n",
    "print('Simulation time is ' + str(round((end - start)/60)) + ' mintues')"
   ]
  },
  {
   "cell_type": "markdown",
   "metadata": {
    "hidden": true
   },
   "source": [
    "#### Save / load results"
   ]
  },
  {
   "cell_type": "markdown",
   "metadata": {
    "hidden": true
   },
   "source": [
    "Due to the speed of the algorithm it is better to save results for later usage. You run experiments, save results and then use it for various purposes. Especially it is relevant for 10k and more experiments."
   ]
  },
  {
   "cell_type": "code",
   "execution_count": 75,
   "metadata": {
    "hidden": true
   },
   "outputs": [],
   "source": [
    "# file_name = 'open_exploration_' + str(n_scenarios) + 'k_' + str(n_policies) + 'pol_' + str(n_objectives) + 'obj' + '.tar.gz'\n",
    "# save_results(results, file_name)\n",
    "# results = load_results(file_name)"
   ]
  },
  {
   "cell_type": "code",
   "execution_count": 6,
   "metadata": {
    "hidden": true
   },
   "outputs": [
    {
     "name": "stderr",
     "output_type": "stream",
     "text": [
      "[MainProcess/INFO] results loaded succesfully from C:\\Users\\Mikhail\\Python projects\\Model-based decision-making\\final assignment\\open_exploration_10k_4pol_3obj.tar.gz\n"
     ]
    }
   ],
   "source": [
    "results = load_results('open_exploration_10k_4pol_3obj.tar.gz')"
   ]
  },
  {
   "cell_type": "markdown",
   "metadata": {
    "heading_collapsed": true
   },
   "source": [
    "### 3. Analyze results statistically "
   ]
  },
  {
   "cell_type": "markdown",
   "metadata": {
    "hidden": true
   },
   "source": [
    "We're also using so-called \"exploratory data analysis\". It can be quite useful and insightful to check basic statistics of obtained results. What is max value for expected number of deaths? How costly it can be to implement the safest solution?"
   ]
  },
  {
   "cell_type": "code",
   "execution_count": 7,
   "metadata": {
    "hidden": true
   },
   "outputs": [],
   "source": [
    "experiments, outcomes = results\n",
    "n_scenarios = len(experiments) / n_policies"
   ]
  },
  {
   "cell_type": "code",
   "execution_count": 8,
   "metadata": {
    "hidden": true
   },
   "outputs": [
    {
     "data": {
      "text/html": [
       "<div>\n",
       "<style scoped>\n",
       "    .dataframe tbody tr th:only-of-type {\n",
       "        vertical-align: middle;\n",
       "    }\n",
       "\n",
       "    .dataframe tbody tr th {\n",
       "        vertical-align: top;\n",
       "    }\n",
       "\n",
       "    .dataframe thead th {\n",
       "        text-align: right;\n",
       "    }\n",
       "</style>\n",
       "<table border=\"1\" class=\"dataframe\">\n",
       "  <thead>\n",
       "    <tr style=\"text-align: right;\">\n",
       "      <th></th>\n",
       "      <th>Expected Annual Damage</th>\n",
       "      <th>Total Investment Costs</th>\n",
       "      <th>Expected Number of Deaths</th>\n",
       "    </tr>\n",
       "  </thead>\n",
       "  <tbody>\n",
       "    <tr>\n",
       "      <th>count</th>\n",
       "      <td>4.000000e+04</td>\n",
       "      <td>4.000000e+04</td>\n",
       "      <td>40000.000000</td>\n",
       "    </tr>\n",
       "    <tr>\n",
       "      <th>mean</th>\n",
       "      <td>1.940341e+08</td>\n",
       "      <td>3.122628e+08</td>\n",
       "      <td>0.217101</td>\n",
       "    </tr>\n",
       "    <tr>\n",
       "      <th>std</th>\n",
       "      <td>3.341941e+08</td>\n",
       "      <td>3.685595e+08</td>\n",
       "      <td>0.379878</td>\n",
       "    </tr>\n",
       "    <tr>\n",
       "      <th>min</th>\n",
       "      <td>0.000000e+00</td>\n",
       "      <td>0.000000e+00</td>\n",
       "      <td>0.000000</td>\n",
       "    </tr>\n",
       "    <tr>\n",
       "      <th>25%</th>\n",
       "      <td>2.440446e+05</td>\n",
       "      <td>7.467223e+07</td>\n",
       "      <td>0.000090</td>\n",
       "    </tr>\n",
       "    <tr>\n",
       "      <th>50%</th>\n",
       "      <td>3.584031e+07</td>\n",
       "      <td>1.559117e+08</td>\n",
       "      <td>0.023466</td>\n",
       "    </tr>\n",
       "    <tr>\n",
       "      <th>75%</th>\n",
       "      <td>2.176465e+08</td>\n",
       "      <td>3.935023e+08</td>\n",
       "      <td>0.243954</td>\n",
       "    </tr>\n",
       "    <tr>\n",
       "      <th>max</th>\n",
       "      <td>2.504875e+09</td>\n",
       "      <td>9.372439e+08</td>\n",
       "      <td>2.238539</td>\n",
       "    </tr>\n",
       "  </tbody>\n",
       "</table>\n",
       "</div>"
      ],
      "text/plain": [
       "       Expected Annual Damage  Total Investment Costs  \\\n",
       "count            4.000000e+04            4.000000e+04   \n",
       "mean             1.940341e+08            3.122628e+08   \n",
       "std              3.341941e+08            3.685595e+08   \n",
       "min              0.000000e+00            0.000000e+00   \n",
       "25%              2.440446e+05            7.467223e+07   \n",
       "50%              3.584031e+07            1.559117e+08   \n",
       "75%              2.176465e+08            3.935023e+08   \n",
       "max              2.504875e+09            9.372439e+08   \n",
       "\n",
       "       Expected Number of Deaths  \n",
       "count               40000.000000  \n",
       "mean                    0.217101  \n",
       "std                     0.379878  \n",
       "min                     0.000000  \n",
       "25%                     0.000090  \n",
       "50%                     0.023466  \n",
       "75%                     0.243954  \n",
       "max                     2.238539  "
      ]
     },
     "execution_count": 8,
     "metadata": {},
     "output_type": "execute_result"
    }
   ],
   "source": [
    "# Basic statistics\n",
    "pd.DataFrame(outcomes).describe()"
   ]
  },
  {
   "cell_type": "code",
   "execution_count": 9,
   "metadata": {
    "hidden": true
   },
   "outputs": [
    {
     "data": {
      "text/html": [
       "<div>\n",
       "<style scoped>\n",
       "    .dataframe tbody tr th:only-of-type {\n",
       "        vertical-align: middle;\n",
       "    }\n",
       "\n",
       "    .dataframe tbody tr th {\n",
       "        vertical-align: top;\n",
       "    }\n",
       "\n",
       "    .dataframe thead th {\n",
       "        text-align: right;\n",
       "    }\n",
       "</style>\n",
       "<table border=\"1\" class=\"dataframe\">\n",
       "  <thead>\n",
       "    <tr style=\"text-align: right;\">\n",
       "      <th></th>\n",
       "      <th>Expected Annual Damage</th>\n",
       "      <th>Total Investment Costs</th>\n",
       "      <th>Expected Number of Deaths</th>\n",
       "    </tr>\n",
       "  </thead>\n",
       "  <tbody>\n",
       "    <tr>\n",
       "      <th>count</th>\n",
       "      <td>1.000000e+04</td>\n",
       "      <td>10000.0</td>\n",
       "      <td>10000.000000</td>\n",
       "    </tr>\n",
       "    <tr>\n",
       "      <th>mean</th>\n",
       "      <td>6.117689e+08</td>\n",
       "      <td>0.0</td>\n",
       "      <td>0.709871</td>\n",
       "    </tr>\n",
       "    <tr>\n",
       "      <th>std</th>\n",
       "      <td>4.307234e+08</td>\n",
       "      <td>0.0</td>\n",
       "      <td>0.475356</td>\n",
       "    </tr>\n",
       "    <tr>\n",
       "      <th>min</th>\n",
       "      <td>8.089945e+06</td>\n",
       "      <td>0.0</td>\n",
       "      <td>0.011684</td>\n",
       "    </tr>\n",
       "    <tr>\n",
       "      <th>25%</th>\n",
       "      <td>2.332155e+08</td>\n",
       "      <td>0.0</td>\n",
       "      <td>0.288917</td>\n",
       "    </tr>\n",
       "    <tr>\n",
       "      <th>50%</th>\n",
       "      <td>5.590924e+08</td>\n",
       "      <td>0.0</td>\n",
       "      <td>0.665781</td>\n",
       "    </tr>\n",
       "    <tr>\n",
       "      <th>75%</th>\n",
       "      <td>8.970500e+08</td>\n",
       "      <td>0.0</td>\n",
       "      <td>1.042583</td>\n",
       "    </tr>\n",
       "    <tr>\n",
       "      <th>max</th>\n",
       "      <td>2.504875e+09</td>\n",
       "      <td>0.0</td>\n",
       "      <td>2.238539</td>\n",
       "    </tr>\n",
       "  </tbody>\n",
       "</table>\n",
       "</div>"
      ],
      "text/plain": [
       "       Expected Annual Damage  Total Investment Costs  \\\n",
       "count            1.000000e+04                 10000.0   \n",
       "mean             6.117689e+08                     0.0   \n",
       "std              4.307234e+08                     0.0   \n",
       "min              8.089945e+06                     0.0   \n",
       "25%              2.332155e+08                     0.0   \n",
       "50%              5.590924e+08                     0.0   \n",
       "75%              8.970500e+08                     0.0   \n",
       "max              2.504875e+09                     0.0   \n",
       "\n",
       "       Expected Number of Deaths  \n",
       "count               10000.000000  \n",
       "mean                    0.709871  \n",
       "std                     0.475356  \n",
       "min                     0.011684  \n",
       "25%                     0.288917  \n",
       "50%                     0.665781  \n",
       "75%                     1.042583  \n",
       "max                     2.238539  "
      ]
     },
     "execution_count": 9,
     "metadata": {},
     "output_type": "execute_result"
    }
   ],
   "source": [
    "# DO NOTHING policy\n",
    "pd.DataFrame(outcomes).iloc[:int(n_scenarios),:].describe()"
   ]
  },
  {
   "cell_type": "code",
   "execution_count": 10,
   "metadata": {
    "hidden": true
   },
   "outputs": [
    {
     "data": {
      "text/html": [
       "<div>\n",
       "<style scoped>\n",
       "    .dataframe tbody tr th:only-of-type {\n",
       "        vertical-align: middle;\n",
       "    }\n",
       "\n",
       "    .dataframe tbody tr th {\n",
       "        vertical-align: top;\n",
       "    }\n",
       "\n",
       "    .dataframe thead th {\n",
       "        text-align: right;\n",
       "    }\n",
       "</style>\n",
       "<table border=\"1\" class=\"dataframe\">\n",
       "  <thead>\n",
       "    <tr style=\"text-align: right;\">\n",
       "      <th></th>\n",
       "      <th>Expected Annual Damage</th>\n",
       "      <th>Total Investment Costs</th>\n",
       "      <th>Expected Number of Deaths</th>\n",
       "    </tr>\n",
       "  </thead>\n",
       "  <tbody>\n",
       "    <tr>\n",
       "      <th>count</th>\n",
       "      <td>1.000000e+04</td>\n",
       "      <td>1.000000e+04</td>\n",
       "      <td>10000.000000</td>\n",
       "    </tr>\n",
       "    <tr>\n",
       "      <th>mean</th>\n",
       "      <td>1.202120e+05</td>\n",
       "      <td>9.372276e+08</td>\n",
       "      <td>0.000022</td>\n",
       "    </tr>\n",
       "    <tr>\n",
       "      <th>std</th>\n",
       "      <td>2.142665e+06</td>\n",
       "      <td>1.876204e+02</td>\n",
       "      <td>0.000586</td>\n",
       "    </tr>\n",
       "    <tr>\n",
       "      <th>min</th>\n",
       "      <td>0.000000e+00</td>\n",
       "      <td>9.372276e+08</td>\n",
       "      <td>0.000000</td>\n",
       "    </tr>\n",
       "    <tr>\n",
       "      <th>25%</th>\n",
       "      <td>0.000000e+00</td>\n",
       "      <td>9.372276e+08</td>\n",
       "      <td>0.000000</td>\n",
       "    </tr>\n",
       "    <tr>\n",
       "      <th>50%</th>\n",
       "      <td>0.000000e+00</td>\n",
       "      <td>9.372276e+08</td>\n",
       "      <td>0.000000</td>\n",
       "    </tr>\n",
       "    <tr>\n",
       "      <th>75%</th>\n",
       "      <td>0.000000e+00</td>\n",
       "      <td>9.372276e+08</td>\n",
       "      <td>0.000000</td>\n",
       "    </tr>\n",
       "    <tr>\n",
       "      <th>max</th>\n",
       "      <td>1.756389e+08</td>\n",
       "      <td>9.372439e+08</td>\n",
       "      <td>0.054895</td>\n",
       "    </tr>\n",
       "  </tbody>\n",
       "</table>\n",
       "</div>"
      ],
      "text/plain": [
       "       Expected Annual Damage  Total Investment Costs  \\\n",
       "count            1.000000e+04            1.000000e+04   \n",
       "mean             1.202120e+05            9.372276e+08   \n",
       "std              2.142665e+06            1.876204e+02   \n",
       "min              0.000000e+00            9.372276e+08   \n",
       "25%              0.000000e+00            9.372276e+08   \n",
       "50%              0.000000e+00            9.372276e+08   \n",
       "75%              0.000000e+00            9.372276e+08   \n",
       "max              1.756389e+08            9.372439e+08   \n",
       "\n",
       "       Expected Number of Deaths  \n",
       "count               10000.000000  \n",
       "mean                    0.000022  \n",
       "std                     0.000586  \n",
       "min                     0.000000  \n",
       "25%                     0.000000  \n",
       "50%                     0.000000  \n",
       "75%                     0.000000  \n",
       "max                     0.054895  "
      ]
     },
     "execution_count": 10,
     "metadata": {},
     "output_type": "execute_result"
    }
   ],
   "source": [
    "# DO EVERYTHING policy\n",
    "pd.DataFrame(outcomes).iloc[int(n_scenarios * (n_policies - 1)):int(n_scenarios * n_policies),:].describe()"
   ]
  },
  {
   "cell_type": "markdown",
   "metadata": {
    "heading_collapsed": true
   },
   "source": [
    "###  4. Analyze success of the policies visually"
   ]
  },
  {
   "cell_type": "markdown",
   "metadata": {
    "hidden": true
   },
   "source": [
    "Of course, pure numbers don't speak for themselves. Let's visualize results."
   ]
  },
  {
   "cell_type": "markdown",
   "metadata": {
    "hidden": true
   },
   "source": [
    "#### Heatmap for correlations"
   ]
  },
  {
   "cell_type": "code",
   "execution_count": 11,
   "metadata": {
    "hidden": true,
    "scrolled": false
   },
   "outputs": [
    {
     "data": {
      "text/plain": [
       "<matplotlib.axes._subplots.AxesSubplot at 0x1e8affd9438>"
      ]
     },
     "execution_count": 11,
     "metadata": {},
     "output_type": "execute_result"
    },
    {
     "data": {
      "image/png": "[encoded data removed]",
      "text/plain": [
       "<Figure size 432x288 with 2 Axes>"
      ]
     },
     "metadata": {},
     "output_type": "display_data"
    }
   ],
   "source": [
    "# Let's check correlations\n",
    "sns.heatmap(pd.DataFrame(outcomes).corr(),annot=True, cmap= \"Spectral\")"
   ]
  },
  {
   "cell_type": "markdown",
   "metadata": {
    "hidden": true
   },
   "source": [
    "#### Pairgrid"
   ]
  },
  {
   "cell_type": "markdown",
   "metadata": {
    "hidden": true
   },
   "source": [
    "To plot a pair grid, we need to preprocess results. Basically, it is just adding a column with the number of the policy to obtained outcomes."
   ]
  },
  {
   "cell_type": "markdown",
   "metadata": {
    "hidden": true
   },
   "source": [
    "#### Preprocess results"
   ]
  },
  {
   "cell_type": "code",
   "execution_count": 12,
   "metadata": {
    "hidden": true
   },
   "outputs": [],
   "source": [
    "experiments, outcomes = results\n",
    "n_scenarios = len(experiments) / n_policies\n",
    "\n",
    "policies = np.empty([len(experiments), 1])\n",
    "k = 0\n",
    "l = n_scenarios\n",
    "for i in range (len(experiments)) : \n",
    "    policies[i] = k\n",
    "    if (i == l - 1) : \n",
    "        k = k + 1\n",
    "        l = l + n_scenarios\n",
    "policies = policies.astype(int)\n",
    "\n",
    "data = pd.DataFrame.from_dict(outcomes)\n",
    "data['policy'] = policies"
   ]
  },
  {
   "cell_type": "markdown",
   "metadata": {
    "hidden": true
   },
   "source": [
    "Now we can observe the real effects of having uncertainties involved! You can see that depending on the various combinations of uncertainties DO NOTHING policy can be quite dangerous (check the final set of graphs). The expected number of deaths here varies from 0 up to 2.2. Interestingly, the most secure policy DO EVERYTHING still has some variations in deaths and damage."
   ]
  },
  {
   "cell_type": "code",
   "execution_count": 13,
   "metadata": {
    "hidden": true,
    "scrolled": false
   },
   "outputs": [
    {
     "data": {
      "text/plain": [
       "<seaborn.axisgrid.PairGrid at 0x1e8b03bc6a0>"
      ]
     },
     "execution_count": 13,
     "metadata": {},
     "output_type": "execute_result"
    },
    {
     "data": {
      "image/png": "[encoded data removed]",
      "text/plain": [
       "<Figure size 762.375x720 with 16 Axes>"
      ]
     },
     "metadata": {},
     "output_type": "display_data"
    }
   ],
   "source": [
    "g = sns.PairGrid(data, hue='policy', palette='colorblind')\n",
    "g.map(plt.scatter, alpha=0.8)\n",
    "g.add_legend()"
   ]
  },
  {
   "cell_type": "markdown",
   "metadata": {
    "hidden": true
   },
   "source": [
    "#### Tsplot"
   ]
  },
  {
   "cell_type": "code",
   "execution_count": 14,
   "metadata": {
    "hidden": true,
    "scrolled": false
   },
   "outputs": [
    {
     "name": "stderr",
     "output_type": "stream",
     "text": [
      "C:\\Users\\Mikhail\\Anaconda3\\lib\\site-packages\\seaborn\\timeseries.py:183: UserWarning: The tsplot function is deprecated and will be removed or replaced (in a substantially altered version) in a future release.\n",
      "  warnings.warn(msg, UserWarning)\n",
      "C:\\Users\\Mikhail\\Anaconda3\\lib\\site-packages\\seaborn\\timeseries.py:183: UserWarning: The tsplot function is deprecated and will be removed or replaced (in a substantially altered version) in a future release.\n",
      "  warnings.warn(msg, UserWarning)\n",
      "C:\\Users\\Mikhail\\Anaconda3\\lib\\site-packages\\seaborn\\timeseries.py:183: UserWarning: The tsplot function is deprecated and will be removed or replaced (in a substantially altered version) in a future release.\n",
      "  warnings.warn(msg, UserWarning)\n",
      "C:\\Users\\Mikhail\\Anaconda3\\lib\\site-packages\\seaborn\\timeseries.py:183: UserWarning: The tsplot function is deprecated and will be removed or replaced (in a substantially altered version) in a future release.\n",
      "  warnings.warn(msg, UserWarning)\n"
     ]
    },
    {
     "data": {
      "image/png": "[encoded data removed]",
      "text/plain": [
       "<Figure size 1152x288 with 4 Axes>"
      ]
     },
     "metadata": {},
     "output_type": "display_data"
    }
   ],
   "source": [
    "# Show ranges in Expected Number of Deaths\n",
    "fig, axs = plt.subplots(figsize=[16,4],ncols=4)\n",
    "colors = iter(cm.viridis(np.linspace(0, 1, 4)))\n",
    "l = ['Do nothing', 'Selfish', 'Moderate', 'Do everything']\n",
    "for i in range(0, n_policies) : \n",
    "    sns.tsplot(data=data[data.policy == int(i)]['Expected Number of Deaths'].reset_index(drop=True), ax=axs[i], legend=True, color=next(colors)).set_title(l[i])\n",
    "    # plt.xlabel('experiments')\n",
    "    # plt.ylabel('values')"
   ]
  },
  {
   "cell_type": "code",
   "execution_count": 15,
   "metadata": {
    "hidden": true
   },
   "outputs": [
    {
     "name": "stderr",
     "output_type": "stream",
     "text": [
      "C:\\Users\\Mikhail\\Anaconda3\\lib\\site-packages\\seaborn\\timeseries.py:183: UserWarning: The tsplot function is deprecated and will be removed or replaced (in a substantially altered version) in a future release.\n",
      "  warnings.warn(msg, UserWarning)\n",
      "C:\\Users\\Mikhail\\Anaconda3\\lib\\site-packages\\seaborn\\timeseries.py:183: UserWarning: The tsplot function is deprecated and will be removed or replaced (in a substantially altered version) in a future release.\n",
      "  warnings.warn(msg, UserWarning)\n",
      "C:\\Users\\Mikhail\\Anaconda3\\lib\\site-packages\\seaborn\\timeseries.py:183: UserWarning: The tsplot function is deprecated and will be removed or replaced (in a substantially altered version) in a future release.\n",
      "  warnings.warn(msg, UserWarning)\n",
      "C:\\Users\\Mikhail\\Anaconda3\\lib\\site-packages\\seaborn\\timeseries.py:183: UserWarning: The tsplot function is deprecated and will be removed or replaced (in a substantially altered version) in a future release.\n",
      "  warnings.warn(msg, UserWarning)\n"
     ]
    },
    {
     "data": {
      "image/png": "[encoded data removed]",
      "text/plain": [
       "<Figure size 1152x288 with 4 Axes>"
      ]
     },
     "metadata": {},
     "output_type": "display_data"
    }
   ],
   "source": [
    "# Show ranges in Expected Annual Damage\n",
    "fig, axs = plt.subplots(figsize=[16,4],ncols=4)\n",
    "colors = iter(cm.viridis(np.linspace(0, 1, 4)))\n",
    "l = ['Do nothing', 'Selfish', 'Moderate', 'Do everything']\n",
    "for i in range(0, n_policies) : \n",
    "    sns.tsplot(data=data[data.policy == int(i)]['Expected Annual Damage'].reset_index(drop=True), ax=axs[i], legend=True, color=next(colors)).set_title(l[i])\n",
    "    # plt.xlabel('experiments')\n",
    "    # plt.ylabel('values')"
   ]
  }
 ],
 "metadata": {
  "kernelspec": {
   "display_name": "Python 3",
   "language": "python",
   "name": "python3"
  },
  "language_info": {
   "codemirror_mode": {
    "name": "ipython",
    "version": 3
   },
   "file_extension": ".py",
   "mimetype": "text/x-python",
   "name": "python",
   "nbconvert_exporter": "python",
   "pygments_lexer": "ipython3",
   "version": "3.6.5"
  }
 },
 "nbformat": 4,
 "nbformat_minor": 2
}
