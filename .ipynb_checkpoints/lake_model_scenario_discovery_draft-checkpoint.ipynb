{
 "cells": [
  {
   "cell_type": "markdown",
   "metadata": {},
   "source": [
    "### Step 1 Import the packages"
   ]
  },
  {
   "cell_type": "code",
   "execution_count": 2,
   "metadata": {},
   "outputs": [
    {
     "data": {
      "text/plain": [
       "<Logger EMA (DEBUG)>"
      ]
     },
     "execution_count": 2,
     "metadata": {},
     "output_type": "execute_result"
    }
   ],
   "source": [
    "# EMA workbench packages\n",
    "from ema_workbench import Model, RealParameter, ScalarOutcome, Constant\n",
    "from ema_workbench import Policy, perform_experiments\n",
    "from ema_workbench import ema_logging, MultiprocessingEvaluator\n",
    "ema_logging.log_to_stderr(ema_logging.INFO)\n",
    "\n",
    "# Import a package to generate random numbers\n",
    "import random\n",
    "\n",
    "# Import PRIM package\n",
    "import prim as prm\n",
    "\n",
    "# A package to calculate duration of experiments\n",
    "import time\n",
    "\n",
    "# Basic packages for plotting and working with data\n",
    "import pandas as pd\n",
    "import numpy as np\n",
    "import matplotlib.pyplot as plt"
   ]
  },
  {
   "cell_type": "markdown",
   "metadata": {},
   "source": [
    "### Step 2 Load the model"
   ]
  },
  {
   "cell_type": "code",
   "execution_count": 9,
   "metadata": {},
   "outputs": [],
   "source": [
    "# Import the model as a function from .py file\n",
    "from lakemodel_function import lake_problem\n",
    "\n",
    "# Instantiate the model\n",
    "lake_model = Model('lakeproblem', function=lake_problem)\n",
    "\n",
    "# Specify the number of steps\n",
    "lake_model.time_horizon = 100"
   ]
  },
  {
   "cell_type": "markdown",
   "metadata": {},
   "source": [
    "### Step 3 Define levers, outcomes, uncertainties and policies"
   ]
  },
  {
   "cell_type": "code",
   "execution_count": 3,
   "metadata": {},
   "outputs": [],
   "source": [
    "# Set levers, one for each time step\n",
    "lake_model.levers = [RealParameter(str(i), 0, 0.1) for i in \n",
    "                     range(lake_model.time_horizon)] # we use time_horizon here\n",
    "\n",
    "# Specify uncertainties\n",
    "lake_model.uncertainties = [RealParameter('mean', 0.01, 0.05),\n",
    "                            RealParameter('stdev', 0.001, 0.005),\n",
    "                            RealParameter('b', 0.1, 0.45),\n",
    "                            RealParameter('q', 2.0, 4.5),\n",
    "                            RealParameter('delta', 0.93, 0.99)]\n",
    "\n",
    "# Specify outcomes \n",
    "lake_model.outcomes = [ScalarOutcome('max_P'),\n",
    "                       ScalarOutcome('utility'),\n",
    "                       ScalarOutcome('inertia'),\n",
    "                       ScalarOutcome('reliability')]\n",
    "\n",
    "# Specify policies\n",
    "policy_0 = Policy(\"No release\", **{l.name:0 for l in lake_model.levers})\n",
    "policy_quarter = Policy(\"Quarter release\", **{l.name:random.randint(0, 25)/100 for l in lake_model.levers})\n",
    "policy_half = Policy(\"Half release\", **{l.name:random.randint(25, 50)/100 for l in lake_model.levers})\n",
    "policy_max = Policy(\"Max release\", **{l.name:random.randint(50, 100)/100 for l in lake_model.levers})"
   ]
  },
  {
   "cell_type": "markdown",
   "metadata": {},
   "source": [
    "### Step 4 Perform Experiments"
   ]
  },
  {
   "cell_type": "code",
   "execution_count": 5,
   "metadata": {
    "scrolled": true
   },
   "outputs": [
    {
     "name": "stderr",
     "output_type": "stream",
     "text": [
      "[MainProcess/INFO] performing 3000 scenarios * 4 policies * 1 model(s) = 12000 experiments\n",
      "[MainProcess/INFO] performing experiments sequentially\n",
      "[MainProcess/INFO] 1200 cases completed\n",
      "[MainProcess/INFO] 2400 cases completed\n",
      "[MainProcess/INFO] 3600 cases completed\n",
      "[MainProcess/INFO] 4800 cases completed\n",
      "[MainProcess/INFO] 6000 cases completed\n",
      "[MainProcess/INFO] 7200 cases completed\n",
      "[MainProcess/INFO] 8400 cases completed\n",
      "[MainProcess/INFO] 9600 cases completed\n",
      "[MainProcess/INFO] 10800 cases completed\n",
      "[MainProcess/INFO] 12000 cases completed\n",
      "[MainProcess/INFO] experiments finished\n"
     ]
    },
    {
     "name": "stdout",
     "output_type": "stream",
     "text": [
      "Processing time : 12.920333139101665 Minutes\n"
     ]
    }
   ],
   "source": [
    "# Single core run\n",
    "start = time.time()\n",
    "n_scenarios = 3000\n",
    "results = perform_experiments(lake_model, n_scenarios, [policy_0,policy_quarter,policy_half,policy_max])\n",
    "end = time.time()\n",
    "print('The algorithm time is:',(end - start)/60, 'minutes')"
   ]
  },
  {
   "cell_type": "code",
   "execution_count": null,
   "metadata": {},
   "outputs": [],
   "source": [
    "# Multi core runs\n",
    "n_policies = 4\n",
    "with MultiprocessingEvaluator(lake_model) as evaluator:\n",
    "    results = evaluator.perform_experiments(n_scenarios, n_policies)\n",
    "end = time.time()\n",
    "print('The algorithm time is:',(end - start)/60, 'minutes')"
   ]
  },
  {
   "cell_type": "markdown",
   "metadata": {},
   "source": [
    "### 5 Run the method"
   ]
  },
  {
   "cell_type": "markdown",
   "metadata": {},
   "source": [
    "#### Preprocess the data"
   ]
  },
  {
   "cell_type": "code",
   "execution_count": 12,
   "metadata": {},
   "outputs": [],
   "source": [
    "# Get the results\n",
    "experiments, outcomes= results\n",
    "df_experiment = pd.DataFrame(data=experiments)\n",
    "df_output = pd.DataFrame(data=outcomes)\n",
    "\n",
    "# Select the policies to evaluate\n",
    "select_policy_0 = (df_experiment.policy == 'No release')\n",
    "select_policy_quarter = (df_experiment.policy == 'Quarter release')\n",
    "select_policy_half = (df_experiment.policy == 'Half release')\n",
    "select_policy_max = (df_experiment.policy == 'Max release')\n",
    "\n",
    "# Select a policy to do PRIM on it\n",
    "a_x_prim_0 = df_experiment[select_policy_0].drop(['scenario_id','policy','model'],axis=1).to_records(index=False)\n",
    "a_y_prim_0 = (df_output[select_policy_0]['max_P'] > \n",
    "              df_output[select_policy_0]['max_P'].quantile(.95)).astype(int).reset_index(drop=True)"
   ]
  },
  {
   "cell_type": "markdown",
   "metadata": {},
   "source": [
    "#### PRIM "
   ]
  },
  {
   "cell_type": "code",
   "execution_count": null,
   "metadata": {},
   "outputs": [],
   "source": [
    "prim_alg_0 = prm.Prim(a_x_prim_0, a_y_prim_0, threshold=0.8 ,threshold_type=\">\")\n",
    "box1_0 = prim_alg_0.find_box()"
   ]
  },
  {
   "cell_type": "markdown",
   "metadata": {},
   "source": [
    "#### Tradeoff within dimension"
   ]
  },
  {
   "cell_type": "code",
   "execution_count": null,
   "metadata": {},
   "outputs": [],
   "source": [
    "%matplotlib inline\n",
    "#%matplotlib notebook\n",
    "box1_0.show_tradeoff()\n",
    "plt.show()"
   ]
  },
  {
   "cell_type": "markdown",
   "metadata": {},
   "source": [
    "#### Choose a box"
   ]
  },
  {
   "cell_type": "code",
   "execution_count": null,
   "metadata": {},
   "outputs": [],
   "source": [
    "box_selection = 54\n",
    "box1_0.select(box_selection)\n",
    "box1_0.show_details()\n",
    "plt.show()"
   ]
  }
 ],
 "metadata": {
  "kernelspec": {
   "display_name": "Python 3",
   "language": "python",
   "name": "python3"
  },
  "language_info": {
   "codemirror_mode": {
    "name": "ipython",
    "version": 3
   },
   "file_extension": ".py",
   "mimetype": "text/x-python",
   "name": "python",
   "nbconvert_exporter": "python",
   "pygments_lexer": "ipython3",
   "version": "3.6.5"
  }
 },
 "nbformat": 4,
 "nbformat_minor": 2
}
